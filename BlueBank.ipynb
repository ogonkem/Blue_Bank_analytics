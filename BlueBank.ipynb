{
 "cells": [
  {
   "cell_type": "code",
   "execution_count": 24,
   "metadata": {},
   "outputs": [],
   "source": [
    "import json\n",
    "import pandas as pd\n",
    "import numpy as np\n",
    "import matplotlib.pyplot as plt\n",
    "\n",
    "# Method 1\n",
    "# json_file = open('Data/loan_data_json.json')\n",
    "# data = json.load(json_file)\n",
    "\n",
    "# Method 2\n",
    "with open('Data/loan_data_json.json') as json_file:\n",
    "    data = json.load(json_file)\n",
    "#     print(data)"
   ]
  },
  {
   "cell_type": "code",
   "execution_count": 2,
   "metadata": {},
   "outputs": [
    {
     "data": {
      "text/html": [
       "<div>\n",
       "<style scoped>\n",
       "    .dataframe tbody tr th:only-of-type {\n",
       "        vertical-align: middle;\n",
       "    }\n",
       "\n",
       "    .dataframe tbody tr th {\n",
       "        vertical-align: top;\n",
       "    }\n",
       "\n",
       "    .dataframe thead th {\n",
       "        text-align: right;\n",
       "    }\n",
       "</style>\n",
       "<table border=\"1\" class=\"dataframe\">\n",
       "  <thead>\n",
       "    <tr style=\"text-align: right;\">\n",
       "      <th></th>\n",
       "      <th>credit.policy</th>\n",
       "      <th>days.with.cr.line</th>\n",
       "      <th>delinq.2yrs</th>\n",
       "      <th>dti</th>\n",
       "      <th>fico</th>\n",
       "      <th>inq.last.6mths</th>\n",
       "      <th>installment</th>\n",
       "      <th>int.rate</th>\n",
       "      <th>log.annual.inc</th>\n",
       "      <th>not.fully.paid</th>\n",
       "      <th>pub.rec</th>\n",
       "      <th>purpose</th>\n",
       "      <th>revol.bal</th>\n",
       "      <th>revol.util</th>\n",
       "    </tr>\n",
       "  </thead>\n",
       "  <tbody>\n",
       "    <tr>\n",
       "      <th>0</th>\n",
       "      <td>1</td>\n",
       "      <td>5639.958333</td>\n",
       "      <td>0</td>\n",
       "      <td>19.48</td>\n",
       "      <td>737</td>\n",
       "      <td>0</td>\n",
       "      <td>829.10</td>\n",
       "      <td>0.1189</td>\n",
       "      <td>11.350407</td>\n",
       "      <td>0</td>\n",
       "      <td>0</td>\n",
       "      <td>debt_consolidation</td>\n",
       "      <td>28854</td>\n",
       "      <td>52.1</td>\n",
       "    </tr>\n",
       "    <tr>\n",
       "      <th>1</th>\n",
       "      <td>1</td>\n",
       "      <td>2760.000000</td>\n",
       "      <td>0</td>\n",
       "      <td>14.29</td>\n",
       "      <td>707</td>\n",
       "      <td>0</td>\n",
       "      <td>228.22</td>\n",
       "      <td>0.1071</td>\n",
       "      <td>11.082143</td>\n",
       "      <td>0</td>\n",
       "      <td>0</td>\n",
       "      <td>credit_card</td>\n",
       "      <td>33623</td>\n",
       "      <td>76.7</td>\n",
       "    </tr>\n",
       "    <tr>\n",
       "      <th>2</th>\n",
       "      <td>1</td>\n",
       "      <td>4710.000000</td>\n",
       "      <td>0</td>\n",
       "      <td>11.63</td>\n",
       "      <td>682</td>\n",
       "      <td>1</td>\n",
       "      <td>366.86</td>\n",
       "      <td>0.1357</td>\n",
       "      <td>10.373491</td>\n",
       "      <td>0</td>\n",
       "      <td>0</td>\n",
       "      <td>debt_consolidation</td>\n",
       "      <td>3511</td>\n",
       "      <td>25.6</td>\n",
       "    </tr>\n",
       "    <tr>\n",
       "      <th>3</th>\n",
       "      <td>1</td>\n",
       "      <td>2699.958333</td>\n",
       "      <td>0</td>\n",
       "      <td>8.10</td>\n",
       "      <td>712</td>\n",
       "      <td>1</td>\n",
       "      <td>162.34</td>\n",
       "      <td>0.1008</td>\n",
       "      <td>11.350407</td>\n",
       "      <td>0</td>\n",
       "      <td>0</td>\n",
       "      <td>debt_consolidation</td>\n",
       "      <td>33667</td>\n",
       "      <td>73.2</td>\n",
       "    </tr>\n",
       "    <tr>\n",
       "      <th>4</th>\n",
       "      <td>1</td>\n",
       "      <td>4066.000000</td>\n",
       "      <td>1</td>\n",
       "      <td>14.97</td>\n",
       "      <td>667</td>\n",
       "      <td>0</td>\n",
       "      <td>102.92</td>\n",
       "      <td>0.1426</td>\n",
       "      <td>11.299732</td>\n",
       "      <td>0</td>\n",
       "      <td>0</td>\n",
       "      <td>credit_card</td>\n",
       "      <td>4740</td>\n",
       "      <td>39.5</td>\n",
       "    </tr>\n",
       "  </tbody>\n",
       "</table>\n",
       "</div>"
      ],
      "text/plain": [
       "   credit.policy  days.with.cr.line  delinq.2yrs    dti  fico  inq.last.6mths  \\\n",
       "0              1        5639.958333            0  19.48   737               0   \n",
       "1              1        2760.000000            0  14.29   707               0   \n",
       "2              1        4710.000000            0  11.63   682               1   \n",
       "3              1        2699.958333            0   8.10   712               1   \n",
       "4              1        4066.000000            1  14.97   667               0   \n",
       "\n",
       "   installment  int.rate  log.annual.inc  not.fully.paid  pub.rec  \\\n",
       "0       829.10    0.1189       11.350407               0        0   \n",
       "1       228.22    0.1071       11.082143               0        0   \n",
       "2       366.86    0.1357       10.373491               0        0   \n",
       "3       162.34    0.1008       11.350407               0        0   \n",
       "4       102.92    0.1426       11.299732               0        0   \n",
       "\n",
       "              purpose  revol.bal  revol.util  \n",
       "0  debt_consolidation      28854        52.1  \n",
       "1         credit_card      33623        76.7  \n",
       "2  debt_consolidation       3511        25.6  \n",
       "3  debt_consolidation      33667        73.2  \n",
       "4         credit_card       4740        39.5  "
      ]
     },
     "execution_count": 2,
     "metadata": {},
     "output_type": "execute_result"
    }
   ],
   "source": [
    "loandata = pd.DataFrame(data)\n",
    "loandata.head()"
   ]
  },
  {
   "cell_type": "code",
   "execution_count": 3,
   "metadata": {},
   "outputs": [
    {
     "data": {
      "text/plain": [
       "(9578, 14)"
      ]
     },
     "execution_count": 3,
     "metadata": {},
     "output_type": "execute_result"
    }
   ],
   "source": [
    "loandata.shape"
   ]
  },
  {
   "cell_type": "code",
   "execution_count": 4,
   "metadata": {},
   "outputs": [
    {
     "data": {
      "text/plain": [
       "array(['debt_consolidation', 'credit_card', 'all_other',\n",
       "       'home_improvement', 'small_business', 'major_purchase',\n",
       "       'educational'], dtype=object)"
      ]
     },
     "execution_count": 4,
     "metadata": {},
     "output_type": "execute_result"
    }
   ],
   "source": [
    "# finding unique values for the purpose column\n",
    "loandata['purpose'].unique()"
   ]
  },
  {
   "cell_type": "code",
   "execution_count": 5,
   "metadata": {},
   "outputs": [
    {
     "data": {
      "text/html": [
       "<div>\n",
       "<style scoped>\n",
       "    .dataframe tbody tr th:only-of-type {\n",
       "        vertical-align: middle;\n",
       "    }\n",
       "\n",
       "    .dataframe tbody tr th {\n",
       "        vertical-align: top;\n",
       "    }\n",
       "\n",
       "    .dataframe thead th {\n",
       "        text-align: right;\n",
       "    }\n",
       "</style>\n",
       "<table border=\"1\" class=\"dataframe\">\n",
       "  <thead>\n",
       "    <tr style=\"text-align: right;\">\n",
       "      <th></th>\n",
       "      <th>credit.policy</th>\n",
       "      <th>days.with.cr.line</th>\n",
       "      <th>delinq.2yrs</th>\n",
       "      <th>dti</th>\n",
       "      <th>fico</th>\n",
       "      <th>inq.last.6mths</th>\n",
       "      <th>installment</th>\n",
       "      <th>int.rate</th>\n",
       "      <th>log.annual.inc</th>\n",
       "      <th>not.fully.paid</th>\n",
       "      <th>pub.rec</th>\n",
       "      <th>revol.bal</th>\n",
       "      <th>revol.util</th>\n",
       "    </tr>\n",
       "  </thead>\n",
       "  <tbody>\n",
       "    <tr>\n",
       "      <th>count</th>\n",
       "      <td>9578.000000</td>\n",
       "      <td>9578.000000</td>\n",
       "      <td>9578.000000</td>\n",
       "      <td>9578.000000</td>\n",
       "      <td>9578.000000</td>\n",
       "      <td>9578.000000</td>\n",
       "      <td>9578.000000</td>\n",
       "      <td>9578.000000</td>\n",
       "      <td>9578.000000</td>\n",
       "      <td>9578.000000</td>\n",
       "      <td>9578.000000</td>\n",
       "      <td>9.578000e+03</td>\n",
       "      <td>9578.000000</td>\n",
       "    </tr>\n",
       "    <tr>\n",
       "      <th>mean</th>\n",
       "      <td>0.804970</td>\n",
       "      <td>4560.767197</td>\n",
       "      <td>0.163708</td>\n",
       "      <td>12.606679</td>\n",
       "      <td>710.846314</td>\n",
       "      <td>1.577469</td>\n",
       "      <td>319.089413</td>\n",
       "      <td>0.122640</td>\n",
       "      <td>10.932117</td>\n",
       "      <td>0.160054</td>\n",
       "      <td>0.062122</td>\n",
       "      <td>1.691396e+04</td>\n",
       "      <td>46.799236</td>\n",
       "    </tr>\n",
       "    <tr>\n",
       "      <th>std</th>\n",
       "      <td>0.396245</td>\n",
       "      <td>2496.930377</td>\n",
       "      <td>0.546215</td>\n",
       "      <td>6.883970</td>\n",
       "      <td>37.970537</td>\n",
       "      <td>2.200245</td>\n",
       "      <td>207.071301</td>\n",
       "      <td>0.026847</td>\n",
       "      <td>0.614813</td>\n",
       "      <td>0.366676</td>\n",
       "      <td>0.262126</td>\n",
       "      <td>3.375619e+04</td>\n",
       "      <td>29.014417</td>\n",
       "    </tr>\n",
       "    <tr>\n",
       "      <th>min</th>\n",
       "      <td>0.000000</td>\n",
       "      <td>178.958333</td>\n",
       "      <td>0.000000</td>\n",
       "      <td>0.000000</td>\n",
       "      <td>612.000000</td>\n",
       "      <td>0.000000</td>\n",
       "      <td>15.670000</td>\n",
       "      <td>0.060000</td>\n",
       "      <td>7.547502</td>\n",
       "      <td>0.000000</td>\n",
       "      <td>0.000000</td>\n",
       "      <td>0.000000e+00</td>\n",
       "      <td>0.000000</td>\n",
       "    </tr>\n",
       "    <tr>\n",
       "      <th>25%</th>\n",
       "      <td>1.000000</td>\n",
       "      <td>2820.000000</td>\n",
       "      <td>0.000000</td>\n",
       "      <td>7.212500</td>\n",
       "      <td>682.000000</td>\n",
       "      <td>0.000000</td>\n",
       "      <td>163.770000</td>\n",
       "      <td>0.103900</td>\n",
       "      <td>10.558414</td>\n",
       "      <td>0.000000</td>\n",
       "      <td>0.000000</td>\n",
       "      <td>3.187000e+03</td>\n",
       "      <td>22.600000</td>\n",
       "    </tr>\n",
       "    <tr>\n",
       "      <th>50%</th>\n",
       "      <td>1.000000</td>\n",
       "      <td>4139.958333</td>\n",
       "      <td>0.000000</td>\n",
       "      <td>12.665000</td>\n",
       "      <td>707.000000</td>\n",
       "      <td>1.000000</td>\n",
       "      <td>268.950000</td>\n",
       "      <td>0.122100</td>\n",
       "      <td>10.928884</td>\n",
       "      <td>0.000000</td>\n",
       "      <td>0.000000</td>\n",
       "      <td>8.596000e+03</td>\n",
       "      <td>46.300000</td>\n",
       "    </tr>\n",
       "    <tr>\n",
       "      <th>75%</th>\n",
       "      <td>1.000000</td>\n",
       "      <td>5730.000000</td>\n",
       "      <td>0.000000</td>\n",
       "      <td>17.950000</td>\n",
       "      <td>737.000000</td>\n",
       "      <td>2.000000</td>\n",
       "      <td>432.762500</td>\n",
       "      <td>0.140700</td>\n",
       "      <td>11.291293</td>\n",
       "      <td>0.000000</td>\n",
       "      <td>0.000000</td>\n",
       "      <td>1.824950e+04</td>\n",
       "      <td>70.900000</td>\n",
       "    </tr>\n",
       "    <tr>\n",
       "      <th>max</th>\n",
       "      <td>1.000000</td>\n",
       "      <td>17639.958330</td>\n",
       "      <td>13.000000</td>\n",
       "      <td>29.960000</td>\n",
       "      <td>827.000000</td>\n",
       "      <td>33.000000</td>\n",
       "      <td>940.140000</td>\n",
       "      <td>0.216400</td>\n",
       "      <td>14.528354</td>\n",
       "      <td>1.000000</td>\n",
       "      <td>5.000000</td>\n",
       "      <td>1.207359e+06</td>\n",
       "      <td>119.000000</td>\n",
       "    </tr>\n",
       "  </tbody>\n",
       "</table>\n",
       "</div>"
      ],
      "text/plain": [
       "       credit.policy  days.with.cr.line  delinq.2yrs          dti  \\\n",
       "count    9578.000000        9578.000000  9578.000000  9578.000000   \n",
       "mean        0.804970        4560.767197     0.163708    12.606679   \n",
       "std         0.396245        2496.930377     0.546215     6.883970   \n",
       "min         0.000000         178.958333     0.000000     0.000000   \n",
       "25%         1.000000        2820.000000     0.000000     7.212500   \n",
       "50%         1.000000        4139.958333     0.000000    12.665000   \n",
       "75%         1.000000        5730.000000     0.000000    17.950000   \n",
       "max         1.000000       17639.958330    13.000000    29.960000   \n",
       "\n",
       "              fico  inq.last.6mths  installment     int.rate  log.annual.inc  \\\n",
       "count  9578.000000     9578.000000  9578.000000  9578.000000     9578.000000   \n",
       "mean    710.846314        1.577469   319.089413     0.122640       10.932117   \n",
       "std      37.970537        2.200245   207.071301     0.026847        0.614813   \n",
       "min     612.000000        0.000000    15.670000     0.060000        7.547502   \n",
       "25%     682.000000        0.000000   163.770000     0.103900       10.558414   \n",
       "50%     707.000000        1.000000   268.950000     0.122100       10.928884   \n",
       "75%     737.000000        2.000000   432.762500     0.140700       11.291293   \n",
       "max     827.000000       33.000000   940.140000     0.216400       14.528354   \n",
       "\n",
       "       not.fully.paid      pub.rec     revol.bal   revol.util  \n",
       "count     9578.000000  9578.000000  9.578000e+03  9578.000000  \n",
       "mean         0.160054     0.062122  1.691396e+04    46.799236  \n",
       "std          0.366676     0.262126  3.375619e+04    29.014417  \n",
       "min          0.000000     0.000000  0.000000e+00     0.000000  \n",
       "25%          0.000000     0.000000  3.187000e+03    22.600000  \n",
       "50%          0.000000     0.000000  8.596000e+03    46.300000  \n",
       "75%          0.000000     0.000000  1.824950e+04    70.900000  \n",
       "max          1.000000     5.000000  1.207359e+06   119.000000  "
      ]
     },
     "execution_count": 5,
     "metadata": {},
     "output_type": "execute_result"
    }
   ],
   "source": [
    "# describe the data\n",
    "loandata.describe()"
   ]
  },
  {
   "cell_type": "code",
   "execution_count": 6,
   "metadata": {},
   "outputs": [
    {
     "data": {
      "text/plain": [
       "count    9578.000000\n",
       "mean        0.122640\n",
       "std         0.026847\n",
       "min         0.060000\n",
       "25%         0.103900\n",
       "50%         0.122100\n",
       "75%         0.140700\n",
       "max         0.216400\n",
       "Name: int.rate, dtype: float64"
      ]
     },
     "execution_count": 6,
     "metadata": {},
     "output_type": "execute_result"
    }
   ],
   "source": [
    "# describe the data for a specific column\n",
    "loandata['int.rate'].describe() # interest rate"
   ]
  },
  {
   "cell_type": "code",
   "execution_count": 7,
   "metadata": {},
   "outputs": [
    {
     "data": {
      "text/plain": [
       "count    9578.000000\n",
       "mean      710.846314\n",
       "std        37.970537\n",
       "min       612.000000\n",
       "25%       682.000000\n",
       "50%       707.000000\n",
       "75%       737.000000\n",
       "max       827.000000\n",
       "Name: fico, dtype: float64"
      ]
     },
     "execution_count": 7,
     "metadata": {},
     "output_type": "execute_result"
    }
   ],
   "source": [
    "loandata['fico'].describe()"
   ]
  },
  {
   "cell_type": "code",
   "execution_count": 8,
   "metadata": {},
   "outputs": [
    {
     "data": {
      "text/plain": [
       "count    9578.000000\n",
       "mean       12.606679\n",
       "std         6.883970\n",
       "min         0.000000\n",
       "25%         7.212500\n",
       "50%        12.665000\n",
       "75%        17.950000\n",
       "max        29.960000\n",
       "Name: dti, dtype: float64"
      ]
     },
     "execution_count": 8,
     "metadata": {},
     "output_type": "execute_result"
    }
   ],
   "source": [
    "loandata['dti'].describe() # debt to income ratio"
   ]
  },
  {
   "cell_type": "code",
   "execution_count": 9,
   "metadata": {},
   "outputs": [
    {
     "data": {
      "text/plain": [
       "(9578, 15)"
      ]
     },
     "execution_count": 9,
     "metadata": {},
     "output_type": "execute_result"
    }
   ],
   "source": [
    "#  using exp to get annual income from log.annual.inc\n",
    "loandata['income'] = np.exp(loandata['log.annual.inc'])\n",
    "loandata.shape"
   ]
  },
  {
   "cell_type": "code",
   "execution_count": 10,
   "metadata": {},
   "outputs": [
    {
     "name": "stdout",
     "output_type": "stream",
     "text": [
      "<class 'pandas.core.frame.DataFrame'>\n",
      "RangeIndex: 9578 entries, 0 to 9577\n",
      "Data columns (total 15 columns):\n",
      "credit.policy        9578 non-null int64\n",
      "days.with.cr.line    9578 non-null float64\n",
      "delinq.2yrs          9578 non-null int64\n",
      "dti                  9578 non-null float64\n",
      "fico                 9578 non-null int64\n",
      "inq.last.6mths       9578 non-null int64\n",
      "installment          9578 non-null float64\n",
      "int.rate             9578 non-null float64\n",
      "log.annual.inc       9578 non-null float64\n",
      "not.fully.paid       9578 non-null int64\n",
      "pub.rec              9578 non-null int64\n",
      "purpose              9578 non-null object\n",
      "revol.bal            9578 non-null int64\n",
      "revol.util           9578 non-null float64\n",
      "income               9578 non-null float64\n",
      "dtypes: float64(7), int64(7), object(1)\n",
      "memory usage: 1.1+ MB\n"
     ]
    }
   ],
   "source": [
    "loandata.info()"
   ]
  },
  {
   "cell_type": "code",
   "execution_count": 11,
   "metadata": {},
   "outputs": [
    {
     "name": "stdout",
     "output_type": "stream",
     "text": [
      "Good\n"
     ]
    }
   ],
   "source": [
    "# using if statements\n",
    "#fico Score\n",
    "\n",
    "# fico >= 300 and < 400: 'Very Poor'\n",
    "# fico >= 400 and ficoscore < 600: 'Poor'\n",
    "# fico >= 601 and ficoscore < 660: 'Fair'\n",
    "# fico >= 660 and ficoscore < 780: 'Good'\n",
    "# fico >=780: 'Excellent'\n",
    "\n",
    "fico = 700\n",
    "\n",
    "if fico >= 300 and fico < 400: \n",
    "    ficocat = 'Very Poor'\n",
    "elif fico >= 400 and fico < 600: \n",
    "    ficocat = 'Poor'\n",
    "elif fico >= 601 and fico < 660: \n",
    "    ficocat = 'Fair'\n",
    "elif fico >= 660 and fico < 780: \n",
    "    ficocat = 'Good'\n",
    "elif fico >=780: \n",
    "    ficocat = 'Excellent'\n",
    "else:\n",
    "    ficocat = 'Unknown'\n",
    "    \n",
    "print(ficocat)"
   ]
  },
  {
   "cell_type": "code",
   "execution_count": 16,
   "metadata": {},
   "outputs": [
    {
     "name": "stdout",
     "output_type": "stream",
     "text": [
      "<class 'pandas.core.frame.DataFrame'>\n",
      "RangeIndex: 9578 entries, 0 to 9577\n",
      "Data columns (total 16 columns):\n",
      "credit.policy        9578 non-null int64\n",
      "days.with.cr.line    9578 non-null float64\n",
      "delinq.2yrs          9578 non-null int64\n",
      "dti                  9578 non-null float64\n",
      "fico                 9578 non-null int64\n",
      "inq.last.6mths       9578 non-null int64\n",
      "installment          9578 non-null float64\n",
      "int.rate             9578 non-null float64\n",
      "log.annual.inc       9578 non-null float64\n",
      "not.fully.paid       9578 non-null int64\n",
      "pub.rec              9578 non-null int64\n",
      "purpose              9578 non-null object\n",
      "revol.bal            9578 non-null int64\n",
      "revol.util           9578 non-null float64\n",
      "income               9578 non-null float64\n",
      "fico.category        9578 non-null object\n",
      "dtypes: float64(7), int64(7), object(2)\n",
      "memory usage: 1.2+ MB\n"
     ]
    }
   ],
   "source": [
    "# applying for loop to loan data\n",
    "length = len(loandata)\n",
    "ficocat = []\n",
    "for x in range(0, length):\n",
    "    fico = loandata['fico'][x]\n",
    "    try:\n",
    "        if fico >= 300 and fico < 400: \n",
    "            cat = 'Very Poor'\n",
    "        elif fico >= 400 and fico < 600: \n",
    "            cat = 'Poor'\n",
    "        elif fico >= 601 and fico < 660: \n",
    "            cat = 'Fair'\n",
    "        elif fico >= 660 and fico < 780: \n",
    "            cat = 'Good'\n",
    "        elif fico >=780: \n",
    "            cat = 'Excellent'\n",
    "        else:\n",
    "            cat = 'Unknown'\n",
    "    except:\n",
    "        cat = 'Unknown'\n",
    "    ficocat.append(cat)\n",
    "    \n",
    "ficocat = pd.Series(ficocat)\n",
    "\n",
    "loandata['fico.category'] = ficocat\n",
    "\n",
    "loandata.info()"
   ]
  },
  {
   "cell_type": "code",
   "execution_count": 23,
   "metadata": {},
   "outputs": [
    {
     "data": {
      "text/html": [
       "<div>\n",
       "<style scoped>\n",
       "    .dataframe tbody tr th:only-of-type {\n",
       "        vertical-align: middle;\n",
       "    }\n",
       "\n",
       "    .dataframe tbody tr th {\n",
       "        vertical-align: top;\n",
       "    }\n",
       "\n",
       "    .dataframe thead th {\n",
       "        text-align: right;\n",
       "    }\n",
       "</style>\n",
       "<table border=\"1\" class=\"dataframe\">\n",
       "  <thead>\n",
       "    <tr style=\"text-align: right;\">\n",
       "      <th></th>\n",
       "      <th>credit.policy</th>\n",
       "      <th>days.with.cr.line</th>\n",
       "      <th>delinq.2yrs</th>\n",
       "      <th>dti</th>\n",
       "      <th>fico</th>\n",
       "      <th>inq.last.6mths</th>\n",
       "      <th>installment</th>\n",
       "      <th>int.rate</th>\n",
       "      <th>log.annual.inc</th>\n",
       "      <th>not.fully.paid</th>\n",
       "      <th>pub.rec</th>\n",
       "      <th>purpose</th>\n",
       "      <th>revol.bal</th>\n",
       "      <th>revol.util</th>\n",
       "      <th>income</th>\n",
       "      <th>fico.category</th>\n",
       "      <th>int.rate.type</th>\n",
       "    </tr>\n",
       "  </thead>\n",
       "  <tbody>\n",
       "    <tr>\n",
       "      <th>9573</th>\n",
       "      <td>0</td>\n",
       "      <td>10474.000000</td>\n",
       "      <td>0</td>\n",
       "      <td>10.39</td>\n",
       "      <td>672</td>\n",
       "      <td>2</td>\n",
       "      <td>344.76</td>\n",
       "      <td>0.1461</td>\n",
       "      <td>12.180755</td>\n",
       "      <td>1</td>\n",
       "      <td>0</td>\n",
       "      <td>all_other</td>\n",
       "      <td>215372</td>\n",
       "      <td>82.1</td>\n",
       "      <td>195000.000479</td>\n",
       "      <td>Good</td>\n",
       "      <td>HIgh</td>\n",
       "    </tr>\n",
       "    <tr>\n",
       "      <th>9574</th>\n",
       "      <td>0</td>\n",
       "      <td>4380.000000</td>\n",
       "      <td>0</td>\n",
       "      <td>0.21</td>\n",
       "      <td>722</td>\n",
       "      <td>5</td>\n",
       "      <td>257.70</td>\n",
       "      <td>0.1253</td>\n",
       "      <td>11.141862</td>\n",
       "      <td>1</td>\n",
       "      <td>0</td>\n",
       "      <td>all_other</td>\n",
       "      <td>184</td>\n",
       "      <td>1.1</td>\n",
       "      <td>68999.999753</td>\n",
       "      <td>Good</td>\n",
       "      <td>HIgh</td>\n",
       "    </tr>\n",
       "    <tr>\n",
       "      <th>9575</th>\n",
       "      <td>0</td>\n",
       "      <td>3450.041667</td>\n",
       "      <td>0</td>\n",
       "      <td>13.09</td>\n",
       "      <td>687</td>\n",
       "      <td>8</td>\n",
       "      <td>97.81</td>\n",
       "      <td>0.1071</td>\n",
       "      <td>10.596635</td>\n",
       "      <td>1</td>\n",
       "      <td>0</td>\n",
       "      <td>debt_consolidation</td>\n",
       "      <td>10036</td>\n",
       "      <td>82.9</td>\n",
       "      <td>39999.999876</td>\n",
       "      <td>Good</td>\n",
       "      <td>Low</td>\n",
       "    </tr>\n",
       "    <tr>\n",
       "      <th>9576</th>\n",
       "      <td>0</td>\n",
       "      <td>1800.000000</td>\n",
       "      <td>0</td>\n",
       "      <td>19.18</td>\n",
       "      <td>692</td>\n",
       "      <td>5</td>\n",
       "      <td>351.58</td>\n",
       "      <td>0.1600</td>\n",
       "      <td>10.819778</td>\n",
       "      <td>1</td>\n",
       "      <td>0</td>\n",
       "      <td>home_improvement</td>\n",
       "      <td>0</td>\n",
       "      <td>3.2</td>\n",
       "      <td>49999.999779</td>\n",
       "      <td>Good</td>\n",
       "      <td>HIgh</td>\n",
       "    </tr>\n",
       "    <tr>\n",
       "      <th>9577</th>\n",
       "      <td>0</td>\n",
       "      <td>4740.000000</td>\n",
       "      <td>0</td>\n",
       "      <td>16.28</td>\n",
       "      <td>732</td>\n",
       "      <td>6</td>\n",
       "      <td>853.43</td>\n",
       "      <td>0.1392</td>\n",
       "      <td>11.264464</td>\n",
       "      <td>1</td>\n",
       "      <td>0</td>\n",
       "      <td>debt_consolidation</td>\n",
       "      <td>37879</td>\n",
       "      <td>57.0</td>\n",
       "      <td>78000.000338</td>\n",
       "      <td>Good</td>\n",
       "      <td>HIgh</td>\n",
       "    </tr>\n",
       "  </tbody>\n",
       "</table>\n",
       "</div>"
      ],
      "text/plain": [
       "      credit.policy  days.with.cr.line  delinq.2yrs    dti  fico  \\\n",
       "9573              0       10474.000000            0  10.39   672   \n",
       "9574              0        4380.000000            0   0.21   722   \n",
       "9575              0        3450.041667            0  13.09   687   \n",
       "9576              0        1800.000000            0  19.18   692   \n",
       "9577              0        4740.000000            0  16.28   732   \n",
       "\n",
       "      inq.last.6mths  installment  int.rate  log.annual.inc  not.fully.paid  \\\n",
       "9573               2       344.76    0.1461       12.180755               1   \n",
       "9574               5       257.70    0.1253       11.141862               1   \n",
       "9575               8        97.81    0.1071       10.596635               1   \n",
       "9576               5       351.58    0.1600       10.819778               1   \n",
       "9577               6       853.43    0.1392       11.264464               1   \n",
       "\n",
       "      pub.rec             purpose  revol.bal  revol.util         income  \\\n",
       "9573        0           all_other     215372        82.1  195000.000479   \n",
       "9574        0           all_other        184         1.1   68999.999753   \n",
       "9575        0  debt_consolidation      10036        82.9   39999.999876   \n",
       "9576        0    home_improvement          0         3.2   49999.999779   \n",
       "9577        0  debt_consolidation      37879        57.0   78000.000338   \n",
       "\n",
       "     fico.category int.rate.type  \n",
       "9573          Good          HIgh  \n",
       "9574          Good          HIgh  \n",
       "9575          Good           Low  \n",
       "9576          Good          HIgh  \n",
       "9577          Good          HIgh  "
      ]
     },
     "execution_count": 23,
     "metadata": {},
     "output_type": "execute_result"
    }
   ],
   "source": [
    "loandata.tail()"
   ]
  },
  {
   "cell_type": "code",
   "execution_count": 20,
   "metadata": {},
   "outputs": [],
   "source": [
    "# df.loc as conditional statements\n",
    "# df.loc[df[columnName] condition, newColumnName] = 'value if the condition is met'\n",
    "# for interest rates, a new column is wanted. rate > 0.12 then high, else low\n",
    "loandata.loc[loandata['int.rate'] > 0.12, 'int.rate.type'] = 'HIgh'"
   ]
  },
  {
   "cell_type": "code",
   "execution_count": 22,
   "metadata": {},
   "outputs": [],
   "source": [
    "loandata.loc[loandata['int.rate'] < 0.12, 'int.rate.type'] = 'Low'"
   ]
  },
  {
   "cell_type": "code",
   "execution_count": 25,
   "metadata": {},
   "outputs": [
    {
     "data": {
      "text/plain": [
       "fico.category\n",
       "Excellent     521\n",
       "Fair          489\n",
       "Good         8568\n",
       "dtype: int64"
      ]
     },
     "execution_count": 25,
     "metadata": {},
     "output_type": "execute_result"
    }
   ],
   "source": [
    "#  number of loans/rows by fico.category\n",
    "\n",
    "catplot = loandata.groupby(['fico.category']).size()\n",
    "catplot"
   ]
  },
  {
   "cell_type": "code",
   "execution_count": 26,
   "metadata": {},
   "outputs": [
    {
     "data": {
      "text/plain": [
       "<matplotlib.axes._subplots.AxesSubplot at 0x1945e4925f8>"
      ]
     },
     "execution_count": 26,
     "metadata": {},
     "output_type": "execute_result"
    },
    {
     "data": {
      "image/png": "[encoded data removed]",
      "text/plain": [
       "<Figure size 432x288 with 1 Axes>"
      ]
     },
     "metadata": {
      "needs_background": "light"
     },
     "output_type": "display_data"
    }
   ],
   "source": [
    "catplot.plot.bar()"
   ]
  },
  {
   "cell_type": "code",
   "execution_count": 27,
   "metadata": {},
   "outputs": [
    {
     "data": {
      "text/plain": [
       "<matplotlib.axes._subplots.AxesSubplot at 0x1945a42e828>"
      ]
     },
     "execution_count": 27,
     "metadata": {},
     "output_type": "execute_result"
    },
    {
     "data": {
      "image/png": "[encoded data removed]",
      "text/plain": [
       "<Figure size 432x288 with 1 Axes>"
      ]
     },
     "metadata": {
      "needs_background": "light"
     },
     "output_type": "display_data"
    }
   ],
   "source": [
    "catplot.plot.bar(color = 'green', width = .15)"
   ]
  },
  {
   "cell_type": "code",
   "execution_count": 28,
   "metadata": {},
   "outputs": [
    {
     "data": {
      "text/plain": [
       "purpose\n",
       "all_other             2331\n",
       "credit_card           1262\n",
       "debt_consolidation    3957\n",
       "educational            343\n",
       "home_improvement       629\n",
       "major_purchase         437\n",
       "small_business         619\n",
       "dtype: int64"
      ]
     },
     "execution_count": 28,
     "metadata": {},
     "output_type": "execute_result"
    }
   ],
   "source": [
    "catplot = loandata.groupby(['purpose']).size()\n",
    "catplot"
   ]
  },
  {
   "cell_type": "code",
   "execution_count": 30,
   "metadata": {},
   "outputs": [
    {
     "data": {
      "text/plain": [
       "<matplotlib.axes._subplots.AxesSubplot at 0x1945a58d358>"
      ]
     },
     "execution_count": 30,
     "metadata": {},
     "output_type": "execute_result"
    },
    {
     "data": {
      "image/png": "[encoded data removed]",
      "text/plain": [
       "<Figure size 432x288 with 1 Axes>"
      ]
     },
     "metadata": {
      "needs_background": "light"
     },
     "output_type": "display_data"
    }
   ],
   "source": [
    "catplot.plot.bar(color = 'red', width = .3)"
   ]
  },
  {
   "cell_type": "code",
   "execution_count": 33,
   "metadata": {},
   "outputs": [
    {
     "data": {
      "image/png": "[encoded data removed]",
      "text/plain": [
       "<Figure size 432x288 with 1 Axes>"
      ]
     },
     "metadata": {
      "needs_background": "light"
     },
     "output_type": "display_data"
    }
   ],
   "source": [
    "# scatter plots\n",
    "ypoint, xpoint = loandata['income'], loandata['dti']\n",
    "plt.scatter(xpoint, ypoint, color = 'purple')\n",
    "plt.show()"
   ]
  },
  {
   "cell_type": "code",
   "execution_count": 36,
   "metadata": {},
   "outputs": [],
   "source": [
    "# writing to csv\n",
    "loandata.to_csv('Data/loandata_cleaned.csv', index=True)"
   ]
  },
  {
   "cell_type": "code",
   "execution_count": null,
   "metadata": {},
   "outputs": [],
   "source": []
  }
 ],
 "metadata": {
  "kernelspec": {
   "display_name": "Python 3",
   "language": "python",
   "name": "python3"
  },
  "language_info": {
   "codemirror_mode": {
    "name": "ipython",
    "version": 3
   },
   "file_extension": ".py",
   "mimetype": "text/x-python",
   "name": "python",
   "nbconvert_exporter": "python",
   "pygments_lexer": "ipython3",
   "version": "3.7.3"
  }
 },
 "nbformat": 4,
 "nbformat_minor": 2
}
